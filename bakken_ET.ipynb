{
 "cells": [
  {
   "cell_type": "markdown",
   "id": "70d91db6",
   "metadata": {},
   "source": [
    "Before starting this notebook up, please do the following so that everything functions well: \n",
    "1. Install a virtual env by running the following in the command line:\n",
    "``` Python\n",
    "python -m venv venv\n",
    "```\n",
    "\n",
    "2. Install packages using pip via command line:\n",
    "``` Python\n",
    "pip install -r requirements.txt\n",
    "```"
   ]
  },
  {
   "cell_type": "code",
   "execution_count": 38,
   "id": "4327d919",
   "metadata": {},
   "outputs": [],
   "source": [
    "import requests\n",
    "import pandas as pd\n",
    "import polars as pl\n",
    "import matplotlib.pyplot as plt\n",
    "import seaborn as sns\n",
    "import os\n",
    "from itertools import product\n",
    "from tqdm import tqdm"
   ]
  },
  {
   "cell_type": "code",
   "execution_count": 41,
   "id": "b8f793d8",
   "metadata": {},
   "outputs": [],
   "source": [
    "def extract_nd_monthlies(choose_year: int, choose_month: int):\n",
    "    \"\"\"\n",
    "    Given a year and month, extract and save MPR dataset\n",
    "    Args: Month and Year lists\n",
    "    Output: datframe with selected datasets months\n",
    "    \"\"\"\n",
    "    # make sure that month is ##\n",
    "    url = f\"https://www.dmr.nd.gov/oilgas/mpr/{choose_year}_{choose_month:02d}.xlsx\"\n",
    "\n",
    "    response = requests.get(url=url)\n",
    "    dataframe = pd.read_excel(response.content, header=0)\n",
    "\n",
    "    # setting up process to store data\n",
    "    current_dir = os.getcwd()\n",
    "    save_path = f\"{current_dir}/mpr_data/monthlies\"\n",
    "    os.makedirs(save_path, exist_ok=True)\n",
    "    dataframe.to_excel(f\"{save_path}/{choose_year}_{choose_month}.xlsx\")\n",
    "\n",
    "    return dataframe\n"
   ]
  },
  {
   "cell_type": "code",
   "execution_count": 42,
   "id": "109e7e77",
   "metadata": {},
   "outputs": [],
   "source": [
    "def extract_mpr(start_yr: int = 2003, end_yr: int = 2026):\n",
    "    \"\"\"\n",
    "    Function that tries to grab datasets and update master dataset \n",
    "    \"\"\"\n",
    "    datasets = []\n",
    "\n",
    "    choose_years = list(range(start_yr, end_yr))\n",
    "    choose_months = list(range(1, 13))\n",
    "    date_permus = list(product(choose_years, choose_months))\n",
    "\n",
    "    for date_permu in tqdm(date_permus): \n",
    "        try:\n",
    "            temp_df = extract_nd_monthlies(choose_year=date_permu[0], choose_month=date_permu[1])\n",
    "            datasets.append(temp_df)\n",
    "\n",
    "        except:\n",
    "            print(f\"no data exists for {date_permu[0]}_{date_permu[1]}!\")\n",
    "\n",
    "    # now we want to combine all datasets into one master df\n",
    "    master_df = pd.concat(datasets)\n",
    "\n",
    "    # setting up where we wil be storing this dataset\n",
    "    current_dir = os.getcwd()\n",
    "    save_path = f\"{current_dir}/mpr_data\"\n",
    "    os.makedirs(save_path, exist_ok=True)\n",
    "    master_df.to_excel(f\"{save_path}/full_data_{start_yr}_{end_yr}.xlsx\")\n",
    "\n",
    "    print(master_df.info())\n",
    "    return master_df\n",
    "\n"
   ]
  },
  {
   "cell_type": "code",
   "execution_count": 43,
   "id": "2282db1f",
   "metadata": {},
   "outputs": [
    {
     "name": "stderr",
     "output_type": "stream",
     "text": [
      "  0%|          | 0/12 [00:00<?, ?it/s]/var/folders/lv/_2pd__3j4tl2w9g39c7ybbs00000gn/T/ipykernel_30858/3740885653.py:11: FutureWarning: Passing bytes to 'read_excel' is deprecated and will be removed in a future version. To read from a byte string, wrap it in a `BytesIO` object.\n",
      "  dataframe = pd.read_excel(response.content, header=0)\n",
      "  8%|▊         | 1/12 [00:07<01:24,  7.70s/it]/var/folders/lv/_2pd__3j4tl2w9g39c7ybbs00000gn/T/ipykernel_30858/3740885653.py:11: FutureWarning: Passing bytes to 'read_excel' is deprecated and will be removed in a future version. To read from a byte string, wrap it in a `BytesIO` object.\n",
      "  dataframe = pd.read_excel(response.content, header=0)\n",
      " 17%|█▋        | 2/12 [00:13<01:03,  6.34s/it]/var/folders/lv/_2pd__3j4tl2w9g39c7ybbs00000gn/T/ipykernel_30858/3740885653.py:11: FutureWarning: Passing bytes to 'read_excel' is deprecated and will be removed in a future version. To read from a byte string, wrap it in a `BytesIO` object.\n",
      "  dataframe = pd.read_excel(response.content, header=0)\n",
      " 25%|██▌       | 3/12 [00:18<00:51,  5.73s/it]/var/folders/lv/_2pd__3j4tl2w9g39c7ybbs00000gn/T/ipykernel_30858/3740885653.py:11: FutureWarning: Passing bytes to 'read_excel' is deprecated and will be removed in a future version. To read from a byte string, wrap it in a `BytesIO` object.\n",
      "  dataframe = pd.read_excel(response.content, header=0)\n",
      " 33%|███▎      | 4/12 [00:22<00:42,  5.27s/it]/var/folders/lv/_2pd__3j4tl2w9g39c7ybbs00000gn/T/ipykernel_30858/3740885653.py:11: FutureWarning: Passing bytes to 'read_excel' is deprecated and will be removed in a future version. To read from a byte string, wrap it in a `BytesIO` object.\n",
      "  dataframe = pd.read_excel(response.content, header=0)\n",
      " 42%|████▏     | 5/12 [00:23<00:25,  3.63s/it]"
     ]
    },
    {
     "name": "stdout",
     "output_type": "stream",
     "text": [
      "no data exists for 2025_5!\n"
     ]
    },
    {
     "name": "stderr",
     "output_type": "stream",
     "text": [
      " 50%|█████     | 6/12 [00:23<00:14,  2.47s/it]"
     ]
    },
    {
     "name": "stdout",
     "output_type": "stream",
     "text": [
      "no data exists for 2025_6!\n"
     ]
    },
    {
     "name": "stderr",
     "output_type": "stream",
     "text": [
      " 58%|█████▊    | 7/12 [00:24<00:09,  1.80s/it]"
     ]
    },
    {
     "name": "stdout",
     "output_type": "stream",
     "text": [
      "no data exists for 2025_7!\n",
      "no data exists for 2025_8!\n"
     ]
    },
    {
     "name": "stderr",
     "output_type": "stream",
     "text": [
      " 75%|███████▌  | 9/12 [00:24<00:02,  1.02it/s]"
     ]
    },
    {
     "name": "stdout",
     "output_type": "stream",
     "text": [
      "no data exists for 2025_9!\n"
     ]
    },
    {
     "name": "stderr",
     "output_type": "stream",
     "text": [
      " 83%|████████▎ | 10/12 [00:24<00:01,  1.33it/s]"
     ]
    },
    {
     "name": "stdout",
     "output_type": "stream",
     "text": [
      "no data exists for 2025_10!\n"
     ]
    },
    {
     "name": "stderr",
     "output_type": "stream",
     "text": [
      " 92%|█████████▏| 11/12 [00:26<00:01,  1.18s/it]"
     ]
    },
    {
     "name": "stdout",
     "output_type": "stream",
     "text": [
      "no data exists for 2025_11!\n"
     ]
    },
    {
     "name": "stderr",
     "output_type": "stream",
     "text": [
      "100%|██████████| 12/12 [00:27<00:00,  2.26s/it]"
     ]
    },
    {
     "name": "stdout",
     "output_type": "stream",
     "text": [
      "no data exists for 2025_12!\n"
     ]
    },
    {
     "name": "stderr",
     "output_type": "stream",
     "text": [
      "\n"
     ]
    },
    {
     "name": "stdout",
     "output_type": "stream",
     "text": [
      "<class 'pandas.core.frame.DataFrame'>\n",
      "Index: 86190 entries, 0 to 21581\n",
      "Data columns (total 21 columns):\n",
      " #   Column      Non-Null Count  Dtype         \n",
      "---  ------      --------------  -----         \n",
      " 0   ReportDate  86190 non-null  datetime64[ns]\n",
      " 1   API_WELLNO  86190 non-null  int64         \n",
      " 2   FileNo      86190 non-null  int64         \n",
      " 3   Company     86190 non-null  object        \n",
      " 4   WellName    86190 non-null  object        \n",
      " 5   Quarter     86190 non-null  object        \n",
      " 6   Section     86190 non-null  int64         \n",
      " 7   Township    86190 non-null  int64         \n",
      " 8   Range       86190 non-null  int64         \n",
      " 9   County      86190 non-null  object        \n",
      " 10  FieldName   86190 non-null  object        \n",
      " 11  Pool        86190 non-null  object        \n",
      " 12  Oil         85576 non-null  float64       \n",
      " 13  Wtr         85576 non-null  float64       \n",
      " 14  Days        85576 non-null  float64       \n",
      " 15  Runs        86190 non-null  int64         \n",
      " 16  Gas         85576 non-null  float64       \n",
      " 17  GasSold     86190 non-null  int64         \n",
      " 18  Flared      85576 non-null  float64       \n",
      " 19  Lat         86190 non-null  float64       \n",
      " 20  Long        86190 non-null  float64       \n",
      "dtypes: datetime64[ns](1), float64(7), int64(7), object(6)\n",
      "memory usage: 14.5+ MB\n",
      "None\n"
     ]
    }
   ],
   "source": [
    "test_df = extract_mpr(start_yr=2025)"
   ]
  },
  {
   "cell_type": "code",
   "execution_count": 28,
   "id": "9f751283",
   "metadata": {},
   "outputs": [
    {
     "name": "stderr",
     "output_type": "stream",
     "text": [
      "/var/folders/lv/_2pd__3j4tl2w9g39c7ybbs00000gn/T/ipykernel_30858/3868648398.py:11: FutureWarning: Passing bytes to 'read_excel' is deprecated and will be removed in a future version. To read from a byte string, wrap it in a `BytesIO` object.\n",
      "  dataframe = pd.read_excel(response.content, header=0)\n"
     ]
    },
    {
     "name": "stdout",
     "output_type": "stream",
     "text": [
      "<class 'pandas.core.frame.DataFrame'>\n",
      "RangeIndex: 21582 entries, 0 to 21581\n",
      "Data columns (total 21 columns):\n",
      " #   Column      Non-Null Count  Dtype         \n",
      "---  ------      --------------  -----         \n",
      " 0   ReportDate  21582 non-null  datetime64[ns]\n",
      " 1   API_WELLNO  21582 non-null  int64         \n",
      " 2   FileNo      21582 non-null  int64         \n",
      " 3   Company     21582 non-null  object        \n",
      " 4   WellName    21582 non-null  object        \n",
      " 5   Quarter     21582 non-null  object        \n",
      " 6   Section     21582 non-null  int64         \n",
      " 7   Township    21582 non-null  int64         \n",
      " 8   Range       21582 non-null  int64         \n",
      " 9   County      21582 non-null  object        \n",
      " 10  FieldName   21582 non-null  object        \n",
      " 11  Pool        21582 non-null  object        \n",
      " 12  Oil         21443 non-null  float64       \n",
      " 13  Wtr         21443 non-null  float64       \n",
      " 14  Days        21443 non-null  float64       \n",
      " 15  Runs        21582 non-null  int64         \n",
      " 16  Gas         21443 non-null  float64       \n",
      " 17  GasSold     21582 non-null  int64         \n",
      " 18  Flared      21443 non-null  float64       \n",
      " 19  Lat         21582 non-null  float64       \n",
      " 20  Long        21582 non-null  float64       \n",
      "dtypes: datetime64[ns](1), float64(7), int64(7), object(6)\n",
      "memory usage: 3.5+ MB\n",
      "None\n"
     ]
    }
   ],
   "source": [
    "extract_nd_monthlies(choose_year=2025, choose_month=4)"
   ]
  },
  {
   "cell_type": "code",
   "execution_count": null,
   "id": "2a614834",
   "metadata": {},
   "outputs": [],
   "source": []
  }
 ],
 "metadata": {
  "kernelspec": {
   "display_name": "venv",
   "language": "python",
   "name": "python3"
  },
  "language_info": {
   "codemirror_mode": {
    "name": "ipython",
    "version": 3
   },
   "file_extension": ".py",
   "mimetype": "text/x-python",
   "name": "python",
   "nbconvert_exporter": "python",
   "pygments_lexer": "ipython3",
   "version": "3.13.3"
  }
 },
 "nbformat": 4,
 "nbformat_minor": 5
}
