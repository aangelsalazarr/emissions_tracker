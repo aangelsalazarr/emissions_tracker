{
 "cells": [
  {
   "cell_type": "code",
   "execution_count": 12,
   "metadata": {},
   "outputs": [],
   "source": [
    "import requests\n",
    "import pandas as pd\n",
    "import json\n",
    "from datetime import date"
   ]
  },
  {
   "cell_type": "markdown",
   "metadata": {},
   "source": [
    "### Let's set up a list of counties close to major rivers. we will focus on the following major US river for now: \n",
    "[Counties on Mississippi River](https://en.wikipedia.org/wiki/Category:Mississippi_River_counties)"
   ]
  },
  {
   "cell_type": "code",
   "execution_count": 25,
   "metadata": {},
   "outputs": [
    {
     "name": "stdout",
     "output_type": "stream",
     "text": [
      "['ASCENSION PARISH', 'CONCORDIA PARISH', 'EAST BATON ROUGE PARISH', 'EAST CARROLL PARISH', 'EAST FELICIANA PARISH', 'IBERVILLE PARISH', 'JEFFERSON PARISH', 'MADISON PARISH', 'NEW ORLEANS PARISH', 'PLAQUEMINES PARISH', 'POINTE COUPEE PARISH', 'ST. JAMES PARISH', 'SAINT JAMES PARISH', 'ST. JOHN THE BAPTIST PARISH', 'SAINT JOHN THE BAPTIST PARISH', 'ST. BERNARD PARISH', 'SAINT BERNARD PARISH', 'TENSAS PARISH', 'WEST BATON ROUGE PARISH', 'WEST FELICIANA PARISH']\n"
     ]
    }
   ],
   "source": [
    "# first we will focus on Louisiana\n",
    "la_parish_on_mississippi = ['Ascension', 'Concordia', 'East Baton Rouge', 'East Carroll', 'East Feliciana', 'Iberville', 'Jefferson', \n",
    "                            'Madison', 'New Orleans', 'Plaquemines', 'Pointe Coupee', 'St. James', 'Saint James', 'St. John The Baptist', \n",
    "                            'Saint John The Baptist', 'St. Bernard' , 'Saint Bernard', 'Tensas', 'West Baton Rouge', 'West Feliciana']\n",
    "\n",
    "# adding the word \"Parish and capitlizing all words\n",
    "la_pars_on_river = [county + \" Parish\" for county in la_parish_on_mississippi]\n",
    "la_pars_on_river = [county.upper() for county in la_pars_on_river]\n",
    "\n",
    "\n",
    "print(la_pars_on_river)\n"
   ]
  },
  {
   "cell_type": "markdown",
   "metadata": {},
   "source": [
    "We are wanting to set up process of extracting information via the envirofacts API on the EPA website\n",
    "First, let's focus on the green house gas data sets and then let us focus on Louisiana Specifically\n",
    "\n",
    "API CALL EXAMPLE: https://data.epa.gov/efservice/tri_facility/state_abbr/>/VA/tri_reporting_form/tri_chem_info/rows/0:2/excel\n",
    "\n",
    "[tri_facility] = table name, at least one table name required. up to 3 can be inputted\n",
    "[state_abbr] = column name, optional\n",
    "[>], =, !=, <, BEGINNING, CONTAINING = optional entry\n",
    "[VA] = optional entry\n",
    "[rows/0:2] = optional entry. 'rows/<first_row>:<last_row>\n",
    "[excel] = default option is xml format, however can output JSON, CSV, EXCEL\n",
    "[count] = optional, counts total number of record that will be returned for this search. when count is used, cant us EXCEL, CSV or XML.\n",
    "\n",
    "\n"
   ]
  },
  {
   "cell_type": "code",
   "execution_count": 13,
   "metadata": {},
   "outputs": [
    {
     "name": "stdout",
     "output_type": "stream",
     "text": [
      "2024-09-18\n"
     ]
    }
   ],
   "source": [
    "# let's set up some regularly updating objects that we will use in data analysis process\n",
    "today = date.today()\n",
    "print(f'{today}')\n"
   ]
  },
  {
   "cell_type": "code",
   "execution_count": 7,
   "metadata": {},
   "outputs": [
    {
     "name": "stdout",
     "output_type": "stream",
     "text": [
      "https://data.epa.gov/efservice/tri_facility/state_abbr/LA/JSON\n"
     ]
    }
   ],
   "source": [
    "# example of what api structure looks like\n",
    "table_name = 'tri_facility'\n",
    "state_abbr = 'LA'\n",
    "output_type = 'JSON'\n",
    "\n",
    "base_url = f'https://data.epa.gov/efservice/{table_name}/state_abbr/{state_abbr}/{output_type}'\n",
    "\n",
    "print(base_url)"
   ]
  },
  {
   "cell_type": "code",
   "execution_count": 16,
   "metadata": {},
   "outputs": [
    {
     "name": "stdout",
     "output_type": "stream",
     "text": [
      "     tri_facility_id                           facility_name  \\\n",
      "0    70001BRDNNA1751                  BORDEN INC. DAIRY DIV.   \n",
      "1    70001DLTPT3011L         SAFETY-KLEEN SYSTEMS - METAIRIE   \n",
      "2    70001LFRGN332AI         HOLCIM - SOR INC. - AIRLINE RMX   \n",
      "3    70003BRTMR721AI                     BARTO MARBLE CO INC   \n",
      "4    7000WBRDWL6825A       BOARDWALK LOUISIANA MIDSTREAM LLC   \n",
      "..               ...                                     ...   \n",
      "947  71483CHMBNHIGHW                          ARCLIN USA LLC   \n",
      "948  71483LLBRWTHOMA                    HIXSON LUMBER CO LLC   \n",
      "949  71486WLLMTLAHWY           WEYERHAEUSER NR CO ZWOLLE DIV   \n",
      "950  7148WLSLLB4915H                   LASALLE BIOENERGY LLC   \n",
      "951  7148WLSLLL2189L  LASALLE LUMBER CO LLC - URANIA SAWMILL   \n",
      "\n",
      "                         street_address   city_name       county_name  \\\n",
      "0                    A1751 AIRLINE HWY.    METAIRIE  JEFFERSON PARISH   \n",
      "1                       3000 AIRLINE DR    METAIRIE  JEFFERSON PARISH   \n",
      "2                       3320 AIRLINE DR    METAIRIE  JEFFERSON PARISH   \n",
      "3                       7021 AIRLINE DR    METAIRIE  JEFFERSON PARISH   \n",
      "4                60825-A HIGHWAY 1148 W  PLAQUEMINE  IBERVILLE PARISH   \n",
      "..                                  ...         ...               ...   \n",
      "947                    344 TANNEHILL RD      DODSON       WINN PARISH   \n",
      "948                  207 THOMAS MILL RD   WINNFIELD       WINN PARISH   \n",
      "949                       2792 OBRIE ST      ZWOLLE     SABINE PARISH   \n",
      "950                    4915 HIGHWAY 125      URANIA   LA SALLE PARISH   \n",
      "951  2189 LA HIGHWAY 125 (TANNEHILL DR)      URANIA   LA SALLE PARISH   \n",
      "\n",
      "     state_county_fips_code state_abbr  zip_code  region  fac_closed_ind  ...  \\\n",
      "0                     22051         LA     70001       6               0  ...   \n",
      "1                     22051         LA     70001       6               0  ...   \n",
      "2                     22051         LA     70001       6               0  ...   \n",
      "3                     22051         LA     70003       6               0  ...   \n",
      "4                     22047         LA     70764       6               0  ...   \n",
      "..                      ...        ...       ...     ...             ...  ...   \n",
      "947                   22127         LA     71422       6               0  ...   \n",
      "948                   22127         LA     71483       6               0  ...   \n",
      "949                   22085         LA     71486       6               0  ...   \n",
      "950                   22059         LA     71480       6               0  ...   \n",
      "951                   22059         LA     71480       6               0  ...   \n",
      "\n",
      "    asgn_public_phone_ext epa_registry_id asgn_technical_contact  \\\n",
      "0                     NaN    1.100639e+11                    NaN   \n",
      "1                     NaN    1.100004e+11                    NaN   \n",
      "2                     NaN    1.100033e+11                    NaN   \n",
      "3                     NaN    1.100209e+11                    NaN   \n",
      "4                     NaN             NaN                    NaN   \n",
      "..                    ...             ...                    ...   \n",
      "947                   NaN    1.100006e+11                    NaN   \n",
      "948                   NaN    1.100005e+11                    NaN   \n",
      "949                   NaN    1.100060e+11                    NaN   \n",
      "950                   NaN    1.100706e+11                    NaN   \n",
      "951                   NaN    1.100705e+11                    NaN   \n",
      "\n",
      "    asgn_technical_phone asgn_technical_phone_ext mail  \\\n",
      "0                    NaN                      NaN  NaN   \n",
      "1                    NaN                      NaN  NaN   \n",
      "2                    NaN                      NaN  NaN   \n",
      "3                    NaN                      NaN  NaN   \n",
      "4                    NaN                      NaN  NaN   \n",
      "..                   ...                      ...  ...   \n",
      "947                  NaN                      NaN  NaN   \n",
      "948                  NaN                      NaN  NaN   \n",
      "949                  NaN                      NaN  NaN   \n",
      "950                  NaN                      NaN  NaN   \n",
      "951                  NaN                      NaN  NaN   \n",
      "\n",
      "    asgn_technical_contact_email foreign_parent_co_name  \\\n",
      "0                            NaN                   None   \n",
      "1                            NaN                   None   \n",
      "2                            NaN            HOLCIM LTD.   \n",
      "3                            NaN                   None   \n",
      "4                            NaN                     NA   \n",
      "..                           ...                    ...   \n",
      "947                          NaN                     NA   \n",
      "948                          NaN                     NA   \n",
      "949                          NaN                     NA   \n",
      "950                          NaN                   None   \n",
      "951                          NaN       TOLKO INDUSTRIES   \n",
      "\n",
      "    foreign_parent_co_db_num  standardized_foreign_parent_company  \n",
      "0                       None                                  NaN  \n",
      "1                       None                                  NaN  \n",
      "2                         NA                                  NaN  \n",
      "3                       None                                  NaN  \n",
      "4                       None                                  NaN  \n",
      "..                       ...                                  ...  \n",
      "947                     None                                  NaN  \n",
      "948                     None                                  NaN  \n",
      "949                     None                                  NaN  \n",
      "950                     None                                  NaN  \n",
      "951                       NA                                  NaN  \n",
      "\n",
      "[952 rows x 48 columns]\n"
     ]
    },
    {
     "name": "stderr",
     "output_type": "stream",
     "text": [
      "C:\\Users\\AngelSalazar\\AppData\\Local\\Temp\\ipykernel_25860\\3876616887.py:8: FutureWarning: Passing literal json to 'read_json' is deprecated and will be removed in a future version. To read from a literal string, wrap it in a 'StringIO' object.\n",
      "  results_df = pd.read_json(results_json)\n"
     ]
    }
   ],
   "source": [
    "# let's make our first get request\n",
    "response = requests.get(url=base_url)\n",
    "\n",
    "# data pull in json format\n",
    "results_json = json.dumps(response.json())\n",
    "\n",
    "# converting into a pandas df\n",
    "results_df = pd.read_json(results_json)\n",
    "\n",
    "# let's output our datafile to its easier to go through \n",
    "results_fname = f'envirofacts_data_pull_{today}.csv'\n",
    "results_df.to_csv(f'output_check/{results_fname}', index=False)\n",
    "\n",
    "print(results_df)"
   ]
  },
  {
   "cell_type": "code",
   "execution_count": 31,
   "metadata": {},
   "outputs": [
    {
     "name": "stdout",
     "output_type": "stream",
     "text": [
      "     tri_facility_id                       facility_name  \\\n",
      "0    70001BRDNNA1751              BORDEN INC. DAIRY DIV.   \n",
      "1    70001DLTPT3011L     SAFETY-KLEEN SYSTEMS - METAIRIE   \n",
      "2    70001LFRGN332AI     HOLCIM - SOR INC. - AIRLINE RMX   \n",
      "3    70003BRTMR721AI                 BARTO MARBLE CO INC   \n",
      "4    7000WBRDWL6825A   BOARDWALK LOUISIANA MIDSTREAM LLC   \n",
      "..               ...                                 ...   \n",
      "848  7125WMYRNT525PR                        MYRIANT CORP   \n",
      "860  71276BRNSHPOBOX  BARNES HARDWOOD INC SONDHEIMER DIV   \n",
      "865  71282CMPLXPOBOX            COMPLEX CHEMICALS CO INC   \n",
      "866  71282MCKNNHWY80     MCKINNEY OIL CO OF TALLULAH INC   \n",
      "912  71371LCNDSJUCTI           BASF CORP - VIDALIA WORKS   \n",
      "\n",
      "                                        street_address        city_name  \\\n",
      "0                                   A1751 AIRLINE HWY.         METAIRIE   \n",
      "1                                      3000 AIRLINE DR         METAIRIE   \n",
      "2                                      3320 AIRLINE DR         METAIRIE   \n",
      "3                                      7021 AIRLINE DR         METAIRIE   \n",
      "4                               60825-A HIGHWAY 1148 W       PLAQUEMINE   \n",
      "..                                                 ...              ...   \n",
      "848                                        525 PORT RD  LAKE PROVIDENCE   \n",
      "860                                 16998 HIGHWAY 65 S       SONDHEIMER   \n",
      "865  MADISON PARISH IND US TRIAL PARK 177 COMPLEX C...         TALLULAH   \n",
      "866                                       102 HWY 80 E         TALLULAH   \n",
      "912                                        109 HWY 131          VIDALIA   \n",
      "\n",
      "             county_name  state_county_fips_code state_abbr  zip_code  region  \\\n",
      "0       JEFFERSON PARISH                   22051         LA     70001       6   \n",
      "1       JEFFERSON PARISH                   22051         LA     70001       6   \n",
      "2       JEFFERSON PARISH                   22051         LA     70001       6   \n",
      "3       JEFFERSON PARISH                   22051         LA     70003       6   \n",
      "4       IBERVILLE PARISH                   22047         LA     70764       6   \n",
      "..                   ...                     ...        ...       ...     ...   \n",
      "848  EAST CARROLL PARISH                   22035         LA     71254       6   \n",
      "860  EAST CARROLL PARISH                   22035         LA     71276       6   \n",
      "865       MADISON PARISH                   22065         LA     71282       6   \n",
      "866       MADISON PARISH                   22065         LA     71282       6   \n",
      "912     CONCORDIA PARISH                   22029         LA     71373       6   \n",
      "\n",
      "     fac_closed_ind  ... asgn_public_phone_ext epa_registry_id  \\\n",
      "0                 0  ...                   NaN    1.100639e+11   \n",
      "1                 0  ...                   NaN    1.100004e+11   \n",
      "2                 0  ...                   NaN    1.100033e+11   \n",
      "3                 0  ...                   NaN    1.100209e+11   \n",
      "4                 0  ...                   NaN             NaN   \n",
      "..              ...  ...                   ...             ...   \n",
      "848               0  ...                   NaN    1.100541e+11   \n",
      "860               1  ...                   NaN    1.100158e+11   \n",
      "865               0  ...                   NaN    1.100114e+11   \n",
      "866               0  ...                   NaN    1.100006e+11   \n",
      "912               0  ...                6328.0    1.100025e+11   \n",
      "\n",
      "    asgn_technical_contact asgn_technical_phone asgn_technical_phone_ext mail  \\\n",
      "0                      NaN                  NaN                      NaN  NaN   \n",
      "1                      NaN                  NaN                      NaN  NaN   \n",
      "2                      NaN                  NaN                      NaN  NaN   \n",
      "3                      NaN                  NaN                      NaN  NaN   \n",
      "4                      NaN                  NaN                      NaN  NaN   \n",
      "..                     ...                  ...                      ...  ...   \n",
      "848                    NaN                  NaN                      NaN  NaN   \n",
      "860                    NaN                  NaN                      NaN  NaN   \n",
      "865                    NaN                  NaN                      NaN  NaN   \n",
      "866                    NaN                  NaN                      NaN  NaN   \n",
      "912                    NaN                  NaN                      NaN  NaN   \n",
      "\n",
      "    asgn_technical_contact_email foreign_parent_co_name  \\\n",
      "0                            NaN                   None   \n",
      "1                            NaN                   None   \n",
      "2                            NaN            HOLCIM LTD.   \n",
      "3                            NaN                   None   \n",
      "4                            NaN                     NA   \n",
      "..                           ...                    ...   \n",
      "848                          NaN                   None   \n",
      "860                          NaN                   None   \n",
      "865                          NaN                     NA   \n",
      "866                          NaN                   None   \n",
      "912                          NaN                     NA   \n",
      "\n",
      "    foreign_parent_co_db_num  standardized_foreign_parent_company  \n",
      "0                       None                                  NaN  \n",
      "1                       None                                  NaN  \n",
      "2                         NA                                  NaN  \n",
      "3                       None                                  NaN  \n",
      "4                       None                                  NaN  \n",
      "..                       ...                                  ...  \n",
      "848                     None                                  NaN  \n",
      "860                     None                                  NaN  \n",
      "865                     None                                  NaN  \n",
      "866                     None                                  NaN  \n",
      "912                     None                                  NaN  \n",
      "\n",
      "[303 rows x 48 columns]\n"
     ]
    }
   ],
   "source": [
    "# now let's filter out any facilities that are not located in a county/parish adjacent to the mississippi river\n",
    "la_facils_near_river = results_df[results_df['county_name'].isin(la_pars_on_river)]\n",
    "\n",
    "# resetting index\n",
    "la_facils_near_river.reset_index()\n",
    "\n",
    "# output as csv file so we can check\n",
    "la_facils_near_river.to_csv(f'output_check/la_facilities_near_mriver_{today}.csv', index=False)\n",
    "\n",
    "\n",
    "print(la_facils_near_river)"
   ]
  }
 ],
 "metadata": {
  "kernelspec": {
   "display_name": "Python 3",
   "language": "python",
   "name": "python3"
  },
  "language_info": {
   "codemirror_mode": {
    "name": "ipython",
    "version": 3
   },
   "file_extension": ".py",
   "mimetype": "text/x-python",
   "name": "python",
   "nbconvert_exporter": "python",
   "pygments_lexer": "ipython3",
   "version": "3.12.0"
  }
 },
 "nbformat": 4,
 "nbformat_minor": 2
}
