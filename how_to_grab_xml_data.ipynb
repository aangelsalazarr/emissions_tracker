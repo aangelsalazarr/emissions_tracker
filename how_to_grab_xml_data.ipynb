{
 "cells": [
  {
   "cell_type": "code",
   "execution_count": 13,
   "metadata": {
    "tags": []
   },
   "outputs": [
    {
     "data": {
      "text/plain": [
       "\"\\nThe purpose of this function is extract and process an XML file.\\n\\nNot entirely sure what an XML file is, or how it compares to a JSON file but it seems\\nvery low memory and has a tree structure.\\n\\nThis is how facilities provide reports to the EPA emissions entity. \\n\\nPlease note that you need to:\\n\\n'pip install elementpath' and then import the module into your env\\n\\nto import: \\n'xml.etree.ElementTree as ET'\\n\\n\""
      ]
     },
     "execution_count": 13,
     "metadata": {},
     "output_type": "execute_result"
    }
   ],
   "source": [
    "'''\n",
    "The purpose of this function is extract and process an XML file.\n",
    "\n",
    "Not entirely sure what an XML file is, or how it compares to a JSON file but it seems\n",
    "very low memory and has a tree structure.\n",
    "\n",
    "This is how facilities provide reports to the EPA emissions entity. \n",
    "\n",
    "Please note that you need to:\n",
    "\n",
    "'pip install elementpath' and then import the module into your env\n",
    "\n",
    "to import: \n",
    "'xml.etree.ElementTree as ET'\n",
    "\n",
    "'''"
   ]
  },
  {
   "cell_type": "code",
   "execution_count": 20,
   "metadata": {},
   "outputs": [],
   "source": [
    "import pandas as pd\n",
    "import requests\n",
    "import xmltodict\n",
    "import prettyprinter as pp\n",
    "import json\n",
    "\n",
    "# used to parse through xml files\n",
    "import xml\n",
    "from bs4 import BeautifulSoup\n",
    "from xml.etree import ElementTree as ET\n"
   ]
  },
  {
   "cell_type": "code",
   "execution_count": 16,
   "metadata": {},
   "outputs": [],
   "source": [
    "def meander_xml(ghgp_id, topic, year=2021):\n",
    "\n",
    "    '''\n",
    "    Given a ghgp_id, return the fuel type within the xml code\n",
    "    '''\n",
    "\n",
    "    try:\n",
    "\n",
    "        # here, we will be adding the ghgp_id value to a url used to make GET request\n",
    "        url = f'https://ghgdata.epa.gov/ghgp/service/xml/{year}?id={ghgp_id}&et=undefined'\n",
    "\n",
    "        # making the url GET request for the xml file\n",
    "        response = requests.get(url=url)\n",
    "        webpage_content = response.text\n",
    "\n",
    "        # modifying our url contnet because it containts code we do not need\n",
    "        lines = webpage_content[38:-6].split('\\n')\n",
    "        modified_content = '\\n'.join(lines[1:])\n",
    "\n",
    "        # parse the XML\n",
    "        root = ET.fromstring(modified_content)\n",
    "\n",
    "        # now we want to create an ifelse statement that will grab specific data\n",
    "        # user needs\n",
    "\n",
    "        if topic == 'Fuel Type' or topic == 'fuel type':\n",
    "\n",
    "            # creating a list to return the found elements to\n",
    "            fuel_types = []\n",
    "\n",
    "            # extract the fuel type element\n",
    "            for fuel_type in root.findall(\".//FuelType\"):\n",
    "\n",
    "                # return the fuel_type value\n",
    "                fuel_types.append(fuel_type.text)\n",
    "            \n",
    "            # removing redundancies\n",
    "            fuel_types = list(set(fuel_types))\n",
    "\n",
    "            # concatenating our list to output a long string\n",
    "            fuel_typez = \", \".join([str(item) for item in fuel_types])\n",
    "\n",
    "            return fuel_typez\n",
    "    \n",
    "\n",
    "        elif topic == 'Unit Type' or topic == 'unit type':\n",
    "    \n",
    "            # creating a list to return the found elements to\n",
    "            unit_types = []\n",
    "\n",
    "            # extract the unit type value\n",
    "            for unit_type in root.findall('.//UnitType'):\n",
    "\n",
    "                # return the unit_type value\n",
    "                unit_types.append(unit_type.text)\n",
    "            \n",
    "            # removing redundancies\n",
    "            unit_types = list(set(unit_types))\n",
    "\n",
    "            # concatenating our list to output a long string\n",
    "            unit_typez = \", \".join([str(item) for item in unit_types])\n",
    "\n",
    "            return unit_typez\n",
    "    \n",
    "\n",
    "        elif topic =='Parent Company' or topic == 'parent company': \n",
    "        \n",
    "            # creating a list to return the found elements to\n",
    "            parent_cos = []\n",
    "            \n",
    "            # else, extract parent company name \n",
    "            for parent_co in root.findall('.//ParentCompanyLegalName'):\n",
    "\n",
    "                # return the parent company name\n",
    "                parent_cos.append(parent_co.text)\n",
    "            \n",
    "            # removing redundancies\n",
    "            parent_cos = list(set(parent_cos))\n",
    "\n",
    "            # concatenating our list to output a long string\n",
    "            parent_coz = \", \".join([str(item) for item in parent_cos])\n",
    "\n",
    "            return parent_coz\n",
    "    \n",
    "\n",
    "        else: \n",
    "\n",
    "            # means none of the 3 topics were given \n",
    "            print('Error: please insert a valid topic to receive a valid value!')\n",
    "\n",
    "\n",
    "        # now we add this fuel type value to a new column called \"Fuel Type\"\n",
    "        # dataframe['Fuel Type'] = str(fuel_type)\n",
    "\n",
    "\n",
    "    except xml.etree.ElementTree.ParseError:\n",
    "        # xml file is not properly formatted, so skip this iteration\n",
    "        \"sorry, bud!\"\n",
    "        pass"
   ]
  },
  {
   "cell_type": "code",
   "execution_count": 17,
   "metadata": {},
   "outputs": [
    {
     "name": "stdout",
     "output_type": "stream",
     "text": [
      "Natural Gas (Weighted U.S. Average), Subbituminous \n",
      "\n",
      "Electricity Generator, PRH (Process Heater) \n",
      "\n",
      "DYNEGY INC, Vistra Corp \n",
      "\n",
      "Natural Gas (Weighted U.S. Average), Subbituminous Electricity Generator, PRH (Process Heater) DYNEGY INC, Vistra Corp\n"
     ]
    }
   ],
   "source": [
    "x = meander_xml(ghgp_id='1000340', year=2021, topic='fuel type')\n",
    "print(x, '\\n')\n",
    "\n",
    "y = meander_xml(ghgp_id='1000340', year=2021, topic='unit type')\n",
    "print(y, '\\n')\n",
    "\n",
    "z = meander_xml(ghgp_id='1000340', year=2021, topic='parent company')\n",
    "print(z, '\\n')\n",
    "\n",
    "print(x, y, z)"
   ]
  },
  {
   "cell_type": "markdown",
   "metadata": {},
   "source": [
    "This section is dedicated towards making meander_xml more efficienct. \n",
    "We want to make sure that for each id, we only make on request of xml data \n",
    "and from there we grab whatever it is that we want to grab. "
   ]
  },
  {
   "cell_type": "code",
   "execution_count": 18,
   "metadata": {},
   "outputs": [
    {
     "name": "stdout",
     "output_type": "stream",
     "text": [
      "https://ghgdata.epa.gov/ghgp/service/xml/2022?id=1002565&et=undefined\n"
     ]
    }
   ],
   "source": [
    "# year input into the url\n",
    "year = '2022'\n",
    "\n",
    "# ghgp id input into the url \n",
    "ghgp_id = '1002565'\n",
    "\n",
    "\n",
    "# url where we will be making our request\n",
    "url = f'https://ghgdata.epa.gov/ghgp/service/xml/{year}?id={ghgp_id}&et=undefined'\n",
    "\n",
    "print(url)"
   ]
  },
  {
   "cell_type": "code",
   "execution_count": 63,
   "metadata": {},
   "outputs": [
    {
     "name": "stdout",
     "output_type": "stream",
     "text": [
      "['PRH (Process Heater)', 'OCS (Other combustion source)', 'PRH (Process Heater)', 'OB (Boiler, other)', 'PRH (Process Heater)', 'OCS (Other combustion source)', 'OB (Boiler, other)', 'TODF (Thermal oxidizer, direct fired, no heat recovery)', 'OB (Boiler, other)', 'PRH (Process Heater)', 'Hydrogen production process unit', 'Flare', 'Sulfur Recovery Plant']\n",
      "['H-1 Heater OFG', 'GP-Refinery Fuel Gas', 'VH-4 Vacuum Gas', 'Wicks Oilfield Gas', 'H-602 Vacuum Gas', 'GP-Natural Gas Combustion', 'Wicks Boiler Natural Gas', 'Zeeco Thermal Oxidizer Tailgas', 'Unit 4 Standby Boiler', 'Crude Heater Oilfield Gas', 'Hydrogen Unit', 'Flare', 'SRU']\n",
      "['SAN JOAQUIN REFINING CO INC']\n",
      "['Fuel Gas', 'Natural Gas (Weighted U.S. Average)', 'Natural Gas (Weighted U.S. Average)', 'Natural Gas (Weighted U.S. Average)']\n"
     ]
    }
   ],
   "source": [
    "# making the url get request for the xml file\n",
    "response = requests.get(url=url)\n",
    "content = response.text\n",
    "\n",
    "# reviewing our data now\n",
    "bs_data = BeautifulSoup(content, 'xml')\n",
    "\n",
    "# now we want to search through xml for specific data\n",
    "finds = ['UnitType', 'UnitName','ParentCompanyLegalName', 'FuelType']\n",
    "\n",
    "# iterating through and grabbing different data\n",
    "for element in finds:\n",
    "    # creating an empty list where we will be adding the values that we are getting\n",
    "    empty_list = []\n",
    "\n",
    "    # finding all instances of the given element\n",
    "    b_finds = bs_data.find_all(element)\n",
    "\n",
    "    # iterating through list of grabbed values and only grabbing text\n",
    "    for b_find in b_finds:\n",
    "        empty_list.append(b_find.text)\n",
    "\n",
    "    # converting data into a list\n",
    "    # output_list = set(empty_list)\n",
    "\n",
    "    print(empty_list)\n",
    "\n",
    "\n",
    "\n"
   ]
  }
 ],
 "metadata": {
  "kernelspec": {
   "display_name": "Python 3",
   "language": "python",
   "name": "python3"
  },
  "language_info": {
   "codemirror_mode": {
    "name": "ipython",
    "version": 3
   },
   "file_extension": ".py",
   "mimetype": "text/x-python",
   "name": "python",
   "nbconvert_exporter": "python",
   "pygments_lexer": "ipython3",
   "version": "3.9.13"
  },
  "orig_nbformat": 4
 },
 "nbformat": 4,
 "nbformat_minor": 2
}
