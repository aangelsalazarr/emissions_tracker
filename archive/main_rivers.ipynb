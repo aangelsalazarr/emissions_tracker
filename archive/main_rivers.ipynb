{
 "cells": [
  {
   "cell_type": "code",
   "execution_count": 2,
   "metadata": {},
   "outputs": [],
   "source": [
    "import os\n",
    "import rivers as r"
   ]
  },
  {
   "cell_type": "code",
   "execution_count": 3,
   "metadata": {},
   "outputs": [
    {
     "name": "stdout",
     "output_type": "stream",
     "text": [
      "[['Fremont', 'IA'], ['Harrison', 'IA'], ['Mills', 'IA'], ['Monoma', 'IA'], ['Pottawattamie', 'IA'], ['Woodbury', 'IA'], ['Atchison', 'KS'], ['Doniphan', 'KS'], ['Leavenworth', 'KS'], ['Wyandotte', 'KS'], ['Andrew', 'MO'], ['Atchison', 'MO'], ['Boone', 'MO'], ['Buchanan', 'MO'], ['Callaway', 'MO'], ['Chariton', 'MO'], ['Clay', 'MO'], ['Cole', 'MO'], ['Cooper', 'MO'], ['Frankllin', 'MO'], ['Gasconade', 'MO'], ['Holt', 'MO'], ['Howard', 'MO'], ['Jackson', 'MO'], ['Lafatette', 'MO'], ['Moniteau', 'MO'], ['Montgomery', 'MO'], ['Osage', 'MO'], ['Platte', 'MO'], ['St. Louis', 'MO'], ['Saline', 'MO'], ['Blaine', 'MT'], ['Broadwater', 'MT'], ['Cascade', 'MT'], ['Chouteau', 'MT'], ['Fergus', 'MT'], ['Judith Basin', 'MT'], ['Meagher', 'MT'], ['Petroleum', 'MT'], ['Phillips', 'MT'], ['Roosevelt', 'MT'], ['Valley', 'MT'], ['Boyd', 'NE'], ['Burt', 'NE'], ['Cass', 'NE'], ['Cedar', 'NE'], ['Dakota', 'NE'], ['Dixon', 'NE'], ['Douglas', 'NE'], ['Knox', 'NE'], ['Nemaha', 'NE'], ['Otoe', 'NE'], ['Richardson', 'NE'], ['Sarpy', 'NE'], ['Thurtson', 'NE'], ['Washington', 'NE'], ['Burleigh', 'ND'], ['Dunn', 'ND'], ['McKenzie', 'ND'], ['McLean', 'ND'], ['Mercer', 'ND'], ['Morton', 'ND'], ['Mountrail', 'ND'], ['Sioux', 'ND'], ['Williams', 'ND'], ['Bon Homme', 'SD'], ['Brule', 'SD'], ['Buffalo', 'SD'], ['Charles Mix', 'SD'], ['Clay', 'SD'], ['Gregroy', 'SD'], ['Hughes', 'SD'], ['Lyman', 'SD'], ['Union', 'SD'], ['Walworth', 'SD'], ['Yankton', 'SD']]\n"
     ]
    }
   ],
   "source": [
    "# loading into our env the county defined rivers\n",
    "mo_rivs = r.mo_river_counties\n",
    "ms_rivs = r.ms_river_counties\n",
    "oh_rivs = r.oh_river_counties\n",
    "\n",
    "# combining into a list\n",
    "rivs = [mo_rivs, ms_rivs, oh_rivs]\n"
   ]
  },
  {
   "cell_type": "markdown",
   "metadata": {},
   "source": [
    "This now allows us to have a general defied list of different rivers"
   ]
  }
 ],
 "metadata": {
  "kernelspec": {
   "display_name": "Python 3",
   "language": "python",
   "name": "python3"
  },
  "language_info": {
   "codemirror_mode": {
    "name": "ipython",
    "version": 3
   },
   "file_extension": ".py",
   "mimetype": "text/x-python",
   "name": "python",
   "nbconvert_exporter": "python",
   "pygments_lexer": "ipython3",
   "version": "3.9.13"
  }
 },
 "nbformat": 4,
 "nbformat_minor": 2
}
